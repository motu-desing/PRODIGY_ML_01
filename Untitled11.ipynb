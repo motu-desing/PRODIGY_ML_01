{
 "cells": [
  {
   "cell_type": "code",
   "execution_count": 4,
   "id": "76e42387-186c-4e93-81ad-26be7c43cbc4",
   "metadata": {},
   "outputs": [
    {
     "name": "stdout",
     "output_type": "stream",
     "text": [
      "Train shape: (1460, 81)\n",
      "Test shape: (1459, 80)\n",
      "Train columns: Index(['Id', 'MSSubClass', 'MSZoning', 'LotFrontage', 'LotArea', 'Street',\n",
      "       'Alley', 'LotShape', 'LandContour', 'Utilities', 'LotConfig',\n",
      "       'LandSlope', 'Neighborhood', 'Condition1', 'Condition2', 'BldgType',\n",
      "       'HouseStyle', 'OverallQual', 'OverallCond', 'YearBuilt', 'YearRemodAdd',\n",
      "       'RoofStyle', 'RoofMatl', 'Exterior1st', 'Exterior2nd', 'MasVnrType',\n",
      "       'MasVnrArea', 'ExterQual', 'ExterCond', 'Foundation', 'BsmtQual',\n",
      "       'BsmtCond', 'BsmtExposure', 'BsmtFinType1', 'BsmtFinSF1',\n",
      "       'BsmtFinType2', 'BsmtFinSF2', 'BsmtUnfSF', 'TotalBsmtSF', 'Heating',\n",
      "       'HeatingQC', 'CentralAir', 'Electrical', '1stFlrSF', '2ndFlrSF',\n",
      "       'LowQualFinSF', 'GrLivArea', 'BsmtFullBath', 'BsmtHalfBath', 'FullBath',\n",
      "       'HalfBath', 'BedroomAbvGr', 'KitchenAbvGr', 'KitchenQual',\n",
      "       'TotRmsAbvGrd', 'Functional', 'Fireplaces', 'FireplaceQu', 'GarageType',\n",
      "       'GarageYrBlt', 'GarageFinish', 'GarageCars', 'GarageArea', 'GarageQual',\n",
      "       'GarageCond', 'PavedDrive', 'WoodDeckSF', 'OpenPorchSF',\n",
      "       'EnclosedPorch', '3SsnPorch', 'ScreenPorch', 'PoolArea', 'PoolQC',\n",
      "       'Fence', 'MiscFeature', 'MiscVal', 'MoSold', 'YrSold', 'SaleType',\n",
      "       'SaleCondition', 'SalePrice'],\n",
      "      dtype='object')\n",
      "Target column: SalePrice\n",
      "Validation Accuracy: 0.00684931506849315\n",
      "Saved submission.csv\n"
     ]
    }
   ],
   "source": [
    "import pandas as pd\n",
    "from sklearn.model_selection import train_test_split\n",
    "from sklearn.ensemble import RandomForestClassifier  # Change to RandomForestRegressor for regression\n",
    "from sklearn.metrics import accuracy_score  # Use mean_squared_error for regression\n",
    "from sklearn.preprocessing import LabelEncoder\n",
    "import numpy as np\n",
    "\n",
    "# Load datasets\n",
    "train = pd.read_csv(\"C:/Users/Venky/Downloads/train.csv\")\n",
    "test = pd.read_csv(\"C:/Users/Venky/Downloads/test.csv\")\n",
    "submission = pd.read_csv(\"C:/Users/Venky/Downloads/sample_submission.csv\")\n",
    "# Preview data\n",
    "print(\"Train shape:\", train.shape)\n",
    "print(\"Test shape:\", test.shape)\n",
    "print(\"Train columns:\", train.columns)\n",
    "\n",
    "# Automatically detect target column (assumes it's the one not in test)\n",
    "target_column = list(set(train.columns) - set(test.columns))[0]\n",
    "print(\"Target column:\", target_column)\n",
    "\n",
    "# Encode categorical columns\n",
    "def preprocess(df):\n",
    "    for col in df.select_dtypes(include='object').columns:\n",
    "        df[col] = LabelEncoder().fit_transform(df[col].astype(str))\n",
    "    return df\n",
    "\n",
    "train = preprocess(train)\n",
    "test = preprocess(test)\n",
    "\n",
    "# Features and target\n",
    "X = train.drop(columns=[target_column])\n",
    "y = train[target_column]\n",
    "\n",
    "# Split train for local validation\n",
    "X_train, X_val, y_train, y_val = train_test_split(X, y, test_size=0.2, random_state=42)\n",
    "\n",
    "# Train model\n",
    "model = RandomForestClassifier(random_state=42)  # Change to RandomForestRegressor() for regression\n",
    "model.fit(X_train, y_train)\n",
    "\n",
    "# Validation performance\n",
    "val_preds = model.predict(X_val)\n",
    "print(\"Validation Accuracy:\", accuracy_score(y_val, val_preds))\n",
    "\n",
    "# Predict on test\n",
    "test_preds = model.predict(test)\n",
    "\n",
    "# Prepare submission\n",
    "submission.iloc[:, 1] = test_preds  # Assumes second column in submission is for predictions\n",
    "submission.to_csv('submission.csv', index=False)\n",
    "print(\"Saved submission.csv\")\n"
   ]
  },
  {
   "cell_type": "code",
   "execution_count": null,
   "id": "208eab21-27d8-4b18-9288-79979a296a89",
   "metadata": {},
   "outputs": [],
   "source": []
  },
  {
   "cell_type": "code",
   "execution_count": null,
   "id": "2b8c1dab-fd76-403c-8e0b-fed3e005ded5",
   "metadata": {},
   "outputs": [],
   "source": []
  }
 ],
 "metadata": {
  "kernelspec": {
   "display_name": "Python [conda env:base] *",
   "language": "python",
   "name": "conda-base-py"
  },
  "language_info": {
   "codemirror_mode": {
    "name": "ipython",
    "version": 3
   },
   "file_extension": ".py",
   "mimetype": "text/x-python",
   "name": "python",
   "nbconvert_exporter": "python",
   "pygments_lexer": "ipython3",
   "version": "3.13.5"
  }
 },
 "nbformat": 4,
 "nbformat_minor": 5
}
